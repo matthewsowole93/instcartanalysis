{
 "cells": [
  {
   "cell_type": "code",
   "execution_count": 1,
   "id": "078df848",
   "metadata": {},
   "outputs": [
    {
     "data": {
      "text/plain": [
       "100"
      ]
     },
     "execution_count": 1,
     "metadata": {},
     "output_type": "execute_result"
    }
   ],
   "source": [
    "# Answers 4.2\n",
    "20 + 80"
   ]
  },
  {
   "cell_type": "code",
   "execution_count": 2,
   "id": "099b916f",
   "metadata": {},
   "outputs": [
    {
     "data": {
      "text/plain": [
       "100"
      ]
     },
     "execution_count": 2,
     "metadata": {},
     "output_type": "execute_result"
    }
   ],
   "source": [
    "150-50"
   ]
  },
  {
   "cell_type": "code",
   "execution_count": 3,
   "id": "eb8a8c6b",
   "metadata": {},
   "outputs": [
    {
     "data": {
      "text/plain": [
       "100"
      ]
     },
     "execution_count": 3,
     "metadata": {},
     "output_type": "execute_result"
    }
   ],
   "source": [
    "55+45"
   ]
  },
  {
   "cell_type": "code",
   "execution_count": 5,
   "id": "a76ca5ac",
   "metadata": {},
   "outputs": [
    {
     "data": {
      "text/plain": [
       "1.248148148148148"
      ]
     },
     "execution_count": 5,
     "metadata": {},
     "output_type": "execute_result"
    }
   ],
   "source": [
    "6.74/5.4"
   ]
  },
  {
   "cell_type": "code",
   "execution_count": 6,
   "id": "e05ef73d",
   "metadata": {},
   "outputs": [
    {
     "data": {
      "text/plain": [
       "1.4705882352941178"
      ]
     },
     "execution_count": 6,
     "metadata": {},
     "output_type": "execute_result"
    }
   ],
   "source": [
    "2.5/1.7"
   ]
  },
  {
   "cell_type": "code",
   "execution_count": 8,
   "id": "284c359c",
   "metadata": {},
   "outputs": [],
   "source": [
    "x = 'Data Analytics '"
   ]
  },
  {
   "cell_type": "code",
   "execution_count": 10,
   "id": "f150f3f3",
   "metadata": {},
   "outputs": [],
   "source": [
    "y = 'Immersion'"
   ]
  },
  {
   "cell_type": "code",
   "execution_count": 11,
   "id": "b3bd9923",
   "metadata": {},
   "outputs": [
    {
     "data": {
      "text/plain": [
       "'Data Analytics Immersion'"
      ]
     },
     "execution_count": 11,
     "metadata": {},
     "output_type": "execute_result"
    }
   ],
   "source": [
    "x+y"
   ]
  },
  {
   "cell_type": "code",
   "execution_count": 12,
   "id": "a8ae67dd",
   "metadata": {},
   "outputs": [],
   "source": [
    "a = 'Hello, My name is '"
   ]
  },
  {
   "cell_type": "code",
   "execution_count": 13,
   "id": "ada9bf21",
   "metadata": {},
   "outputs": [],
   "source": [
    "b = 'Matthew Sowole.'"
   ]
  },
  {
   "cell_type": "code",
   "execution_count": 14,
   "id": "195d83ad",
   "metadata": {},
   "outputs": [
    {
     "data": {
      "text/plain": [
       "'Hello, My name is Matthew Sowole.'"
      ]
     },
     "execution_count": 14,
     "metadata": {},
     "output_type": "execute_result"
    }
   ],
   "source": [
    "a+b"
   ]
  },
  {
   "cell_type": "code",
   "execution_count": 15,
   "id": "84894173",
   "metadata": {},
   "outputs": [],
   "source": [
    "c= ' I am on Achievement 4 of the Data Immersion Course'"
   ]
  },
  {
   "cell_type": "code",
   "execution_count": 16,
   "id": "7e47689b",
   "metadata": {},
   "outputs": [
    {
     "data": {
      "text/plain": [
       "'Hello, My name is Matthew Sowole. I am on Achievement 4 of the Data Immersion Course'"
      ]
     },
     "execution_count": 16,
     "metadata": {},
     "output_type": "execute_result"
    }
   ],
   "source": [
    "a+b+c"
   ]
  },
  {
   "cell_type": "code",
   "execution_count": null,
   "id": "3b185057",
   "metadata": {},
   "outputs": [],
   "source": []
  }
 ],
 "metadata": {
  "kernelspec": {
   "display_name": "Python 3 (ipykernel)",
   "language": "python",
   "name": "python3"
  },
  "language_info": {
   "codemirror_mode": {
    "name": "ipython",
    "version": 3
   },
   "file_extension": ".py",
   "mimetype": "text/x-python",
   "name": "python",
   "nbconvert_exporter": "python",
   "pygments_lexer": "ipython3",
   "version": "3.10.9"
  }
 },
 "nbformat": 4,
 "nbformat_minor": 5
}
